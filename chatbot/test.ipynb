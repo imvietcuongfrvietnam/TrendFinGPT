{
 "cells": [
  {
   "cell_type": "code",
   "execution_count": 2,
   "id": "89dabf8c",
   "metadata": {},
   "outputs": [],
   "source": [
    "from dotenv import load_dotenv\n",
    "import os\n",
    "\n",
    "load_dotenv()\n",
    "\n",
    "api_key = os.getenv(\"GEMINI_API_KEY\")"
   ]
  },
  {
   "cell_type": "code",
   "execution_count": 3,
   "id": "c2aef03d",
   "metadata": {},
   "outputs": [
    {
     "name": "stdout",
     "output_type": "stream",
     "text": [
      "Hôm nay là ngày 1 tháng 5 năm 2024.\n",
      "\n"
     ]
    }
   ],
   "source": [
    "from google import genai\n",
    "\n",
    "client = genai.Client(api_key=api_key)\n",
    "\n",
    "response = client.models.generate_content(\n",
    "    model=\"gemini-2.0-flash-lite\", contents=\"Hôm nay là ngày bao nhiêu?\"\n",
    ")\n",
    "print(response.text)"
   ]
  },
  {
   "cell_type": "markdown",
   "id": "51e6b906",
   "metadata": {},
   "source": [
    "# Full text fucking search lets go"
   ]
  },
  {
   "cell_type": "code",
   "execution_count": 17,
   "id": "823eb594",
   "metadata": {},
   "outputs": [],
   "source": [
    "import unicodedata, re\n",
    "\n",
    "def normalize(text):\n",
    "    text = text.lower()\n",
    "    text = unicodedata.normalize('NFC', text)\n",
    "    text = re.sub(r'[^a-z0-9ăâđêôơư\\s]', ' ', text)\n",
    "    text = re.sub(r'\\s+', ' ', text).strip()\n",
    "    return text"
   ]
  },
  {
   "cell_type": "code",
   "execution_count": 23,
   "id": "dbbf278d",
   "metadata": {},
   "outputs": [],
   "source": [
    "from pyvi import ViTokenizer\n",
    "\n",
    "def load_stopwords(path=\"stopwords.txt\"):\n",
    "    with open(path, encoding=\"utf-8\") as f:\n",
    "        stops = {line.strip() for line in f\n",
    "                 if line.strip() and not line.startswith(\"#\")}\n",
    "    return stops\n",
    "\n",
    "stopwords = load_stopwords()\n",
    "\n",
    "def remove_stopwords(sentence, stopwords=stopwords):\n",
    "    tokenized = ViTokenizer.tokenize(sentence)\n",
    "    tokens = tokenized.split()\n",
    "    filtered = [t for t in tokens if t not in stopwords]\n",
    "    return \" \".join(filtered)"
   ]
  },
  {
   "cell_type": "code",
   "execution_count": 24,
   "id": "6171e4f8",
   "metadata": {},
   "outputs": [],
   "source": [
    "def preprocess_input(user_input):\n",
    "    input = normalize(user_input)\n",
    "    input = remove_stopwords(input)\n",
    "    return input"
   ]
  },
  {
   "cell_type": "code",
   "execution_count": 98,
   "id": "9338d067",
   "metadata": {},
   "outputs": [],
   "source": [
    "from elasticsearch import Elasticsearch\n",
    "\n",
    "es = Elasticsearch(\"http://localhost:9200\")\n",
    "\n",
    "def retrieval(query_str, index=\"vietnamnet\", top_k=5):\n",
    "    body = {\n",
    "        \"query\": {\n",
    "            \"bool\": {\n",
    "                \"should\": [\n",
    "                    {\n",
    "                        \"match_phrase\": {\n",
    "                            \"content\": {\n",
    "                                \"query\": query_str,\n",
    "                                \"slop\": 1,\n",
    "                                \"boost\": 3\n",
    "                            }\n",
    "                        }\n",
    "                    },\n",
    "                    {\n",
    "                        \"multi_match\": {\n",
    "                            \"query\": query_str,\n",
    "                            \"fields\": [\"title^2\", \"summary^1.5\", \"content\"],\n",
    "                            \"fuzziness\": \"AUTO\"\n",
    "                        }\n",
    "                    }\n",
    "                ]\n",
    "            }\n",
    "        }\n",
    "    }\n",
    "    res = es.search(index=index, body=body, size=top_k)\n",
    "    hits = res.get(\"hits\", {}).get(\"hits\", [])\n",
    "    return [hit[\"_source\"] for hit in hits]\n",
    "\n",
    "def answer(question, client):\n",
    "    q = preprocess_input(question)\n",
    "    docs = retrieval(q, top_k=5)\n",
    "    context = \"\\n\\n\".join(f\"{str(d)}\" for d in docs)\n",
    "    # print(context)\n",
    "    # print(\"=\"*100)\n",
    "    return client.models.generate_content(\n",
    "        model=\"gemini-2.0-flash-lite\",\n",
    "        contents=(\n",
    "            f\"Trả lời câu hỏi sau: “{question}”\\n\"\n",
    "            f\"Dùng những gì bạn biết kết hợp với thông tin truy vấn được, các câu hỏi bạn không thấy trong phần thông tin liên quan hãy thông báo cho người dùng và cố gắng trả lời bằng dữ liệu bạn có\"\n",
    "            f\"Dưới đây là các đoạn thông tin liên quan:\\n{context}\\n\\n\"\n",
    "            \"Hãy trả lời ngắn gọn, rõ ràng.\"\n",
    "        )\n",
    "    ).text\n"
   ]
  },
  {
   "cell_type": "code",
   "execution_count": 100,
   "id": "a424b5f1",
   "metadata": {},
   "outputs": [
    {
     "name": "stderr",
     "output_type": "stream",
     "text": [
      "C:\\Users\\Saphyiera\\AppData\\Local\\Temp\\ipykernel_14508\\3378729784.py:30: DeprecationWarning: Received 'size' via a specific parameter in the presence of a 'body' parameter, which is deprecated and will be removed in a future version. Instead, use only 'body' or only specific parameters.\n",
      "  res = es.search(index=index, body=body, size=top_k)\n"
     ]
    },
    {
     "name": "stdout",
     "output_type": "stream",
     "text": [
      "Nghị định 52/2024/NĐ-CP quy định về thanh toán không dùng tiền mặt. Các nội dung chính của nghị định bao gồm:\n",
      "\n",
      "*   Quy định về tiền điện tử, bao gồm định nghĩa, hình thức (ví điện tử, thẻ trả trước) và đối tượng cung ứng.\n",
      "*   Quy định về thanh toán quốc tế.\n",
      "*   Sửa đổi, bổ sung các quy định về tài khoản thanh toán (mở, sử dụng, ủy quyền, phong tỏa, đóng tài khoản...).\n",
      "*   Quy định về dịch vụ thanh toán không qua tài khoản thanh toán.\n",
      "\n"
     ]
    }
   ],
   "source": [
    "print(answer(\"Nội dung nghị định 52 là gì?\", client))"
   ]
  },
  {
   "cell_type": "code",
   "execution_count": 101,
   "id": "7a38c47f",
   "metadata": {},
   "outputs": [
    {
     "name": "stderr",
     "output_type": "stream",
     "text": [
      "C:\\Users\\Saphyiera\\AppData\\Local\\Temp\\ipykernel_14508\\3378729784.py:30: DeprecationWarning: Received 'size' via a specific parameter in the presence of a 'body' parameter, which is deprecated and will be removed in a future version. Instead, use only 'body' or only specific parameters.\n",
      "  res = es.search(index=index, body=body, size=top_k)\n"
     ]
    },
    {
     "name": "stdout",
     "output_type": "stream",
     "text": [
      "Tôi xin lỗi, tôi không có thông tin về giá vàng ngày 15/3/2024. Tuy nhiên, tôi có thể cung cấp giá vàng ngày 15/3/2025 theo thông tin tôi tìm thấy:\n",
      "\n",
      "*   **Giá vàng nhẫn:**\n",
      "    *   SJC: 94,2 - 95,7 triệu đồng/lượng (mua - bán)\n",
      "    *   Doji: 94,9 - 96,3 triệu đồng/lượng (mua - bán)\n",
      "*   **Giá vàng miếng SJC:**\n",
      "    *   SJC TP.HCM và Doji Hà Nội/TP.HCM: 94,3 - 95,8 triệu đồng/lượng (mua - bán)\n",
      "*   **Giá vàng thế giới:** 2.984,5 USD/ounce (giao ngay)\n"
     ]
    }
   ],
   "source": [
    "print(answer(\"Giá vàng ngày 15/3\", client))"
   ]
  },
  {
   "cell_type": "code",
   "execution_count": 105,
   "id": "e793ca55",
   "metadata": {},
   "outputs": [
    {
     "name": "stderr",
     "output_type": "stream",
     "text": [
      "C:\\Users\\Saphyiera\\AppData\\Local\\Temp\\ipykernel_14508\\3378729784.py:30: DeprecationWarning: Received 'size' via a specific parameter in the presence of a 'body' parameter, which is deprecated and will be removed in a future version. Instead, use only 'body' or only specific parameters.\n",
      "  res = es.search(index=index, body=body, size=top_k)\n"
     ]
    },
    {
     "name": "stdout",
     "output_type": "stream",
     "text": [
      "Tôi không có thông tin về giá vàng ngày 20/11/2024. Tuy nhiên, tôi có thể cung cấp cho bạn giá vàng ngày 20/11/2023:\n",
      "\n",
      "*   **Giá vàng trong nước:**\n",
      "    *   Giá vàng SJC:\n",
      "        *   Mua vào: 70.150.000 - 70.050.000 đồng/lượng\n",
      "        *   Bán ra: 70.870.000 - 70.750.000 đồng/lượng\n",
      "    *   Giá vàng DOJI:\n",
      "        *   Mua vào: 70.100.000 - 69.950.000 đồng/lượng\n",
      "        *   Bán ra: 70.850.000 - 70.750.000 đồng/lượng\n",
      "*   **Giá vàng quốc tế:** Khoảng 1.980,6 USD/ounce.\n",
      "\n",
      "Xin lưu ý rằng giá vàng có thể thay đổi trong ngày. Để có thông tin chính xác nhất, bạn nên tham khảo các nguồn tin tức tài chính uy tín vào thời điểm hiện tại.\n",
      "\n"
     ]
    }
   ],
   "source": [
    "print(answer(\"Giá vàng ngày 20/11\", client))"
   ]
  },
  {
   "cell_type": "code",
   "execution_count": 106,
   "id": "3b5897f7",
   "metadata": {},
   "outputs": [
    {
     "name": "stderr",
     "output_type": "stream",
     "text": [
      "C:\\Users\\Saphyiera\\AppData\\Local\\Temp\\ipykernel_14508\\3378729784.py:30: DeprecationWarning: Received 'size' via a specific parameter in the presence of a 'body' parameter, which is deprecated and will be removed in a future version. Instead, use only 'body' or only specific parameters.\n",
      "  res = es.search(index=index, body=body, size=top_k)\n"
     ]
    },
    {
     "name": "stdout",
     "output_type": "stream",
     "text": [
      "Tôi không có thông tin về \"Giá vàng ngày hôm nay\". Vui lòng cung cấp thêm thông tin để tôi có thể giúp bạn.\n",
      "\n"
     ]
    }
   ],
   "source": [
    "print(answer(\"Giá vàng ngày hôm nay\", client))"
   ]
  },
  {
   "cell_type": "code",
   "execution_count": 107,
   "id": "60c33dc8",
   "metadata": {},
   "outputs": [
    {
     "name": "stderr",
     "output_type": "stream",
     "text": [
      "C:\\Users\\Saphyiera\\AppData\\Local\\Temp\\ipykernel_14508\\3378729784.py:30: DeprecationWarning: Received 'size' via a specific parameter in the presence of a 'body' parameter, which is deprecated and will be removed in a future version. Instead, use only 'body' or only specific parameters.\n",
      "  res = es.search(index=index, body=body, size=top_k)\n"
     ]
    },
    {
     "name": "stdout",
     "output_type": "stream",
     "text": [
      "Tôi không có thông tin về ngày hôm nay là ngày bao nhiêu. Tuy nhiên, tôi có thể cung cấp một số thông tin liên quan đến các ngày đã qua và sắp tới:\n",
      "\n",
      "*   Ngày 10/9/2024: MB ký kết hợp tác với Công đoàn Y tế Việt Nam.\n",
      "*   Ngày 11/09/2024: Bài báo được đăng tải.\n",
      "*   Ngày 27/02/1955: Ngày Thầy thuốc Việt Nam (sẽ kỷ niệm 70 năm vào 27/02/2025).\n",
      "*   Ngày 04/11/1994: Ngày thành lập MB (sẽ kỷ niệm 30 năm vào 04/11/2024).\n",
      "\n"
     ]
    }
   ],
   "source": [
    "print(answer(\"Hôm nay là ngày bao nhiêu\", client))"
   ]
  },
  {
   "cell_type": "code",
   "execution_count": 83,
   "id": "3afe05c5",
   "metadata": {},
   "outputs": [],
   "source": [
    "def decompose(question, client):\n",
    "    prompt = (\n",
    "        \"Bạn là trợ lý thông minh. \"\n",
    "        \"Hãy tách câu sau thành các câu hỏi con rõ ràng, ngắn gọn, ít câu hỏi con nhất có thể:\\n\"\n",
    "        f\"“{question}”\\n\"\n",
    "        \"Trả về JSON list, ví dụ: [\\\"q1\\\",\\\"q2\\\"]\"\n",
    "    )\n",
    "    resp = client.models.generate_content(\n",
    "        model=\"gemini-2.0-flash\",\n",
    "        contents=prompt\n",
    "    ).text\n",
    "    print(resp)\n",
    "    return resp\n",
    "\n",
    "def answer_multi(question, client):\n",
    "    subs = decompose(question, client)\n",
    "    answers = []\n",
    "    for sub in subs:\n",
    "        a = answer(sub, client)\n",
    "        answers.append({\"question\": sub, \"answer\": a})\n",
    "    return answers\n"
   ]
  },
  {
   "cell_type": "code",
   "execution_count": 84,
   "id": "f4451917",
   "metadata": {},
   "outputs": [
    {
     "name": "stdout",
     "output_type": "stream",
     "text": [
      "```json\n",
      "[\n",
      "  \"Giá vàng ngày 15/3 là bao nhiêu?\",\n",
      "  \"Giá vàng ngày 11/3 là bao nhiêu?\"\n",
      "]\n",
      "```\n",
      "\n"
     ]
    },
    {
     "data": {
      "text/plain": [
       "'```json\\n[\\n  \"Giá vàng ngày 15/3 là bao nhiêu?\",\\n  \"Giá vàng ngày 11/3 là bao nhiêu?\"\\n]\\n```\\n'"
      ]
     },
     "execution_count": 84,
     "metadata": {},
     "output_type": "execute_result"
    }
   ],
   "source": [
    "decompose(\"Giá vàng ngày 15/3 và 11/3\", client)"
   ]
  },
  {
   "cell_type": "code",
   "execution_count": 86,
   "id": "165de4ba",
   "metadata": {},
   "outputs": [
    {
     "name": "stdout",
     "output_type": "stream",
     "text": [
      "```json\n",
      "[\n",
      "  \"Giá vàng hôm nay là bao nhiêu?\",\n",
      "  \"Giá vàng hôm qua là bao nhiêu?\"\n",
      "]\n",
      "```\n",
      "\n"
     ]
    },
    {
     "data": {
      "text/plain": [
       "'```json\\n[\\n  \"Giá vàng hôm nay là bao nhiêu?\",\\n  \"Giá vàng hôm qua là bao nhiêu?\"\\n]\\n```\\n'"
      ]
     },
     "execution_count": 86,
     "metadata": {},
     "output_type": "execute_result"
    }
   ],
   "source": [
    "decompose(\"Giá vàng ngày hôm nay và hôm qua\", client)"
   ]
  },
  {
   "cell_type": "code",
   "execution_count": null,
   "id": "4e643b99",
   "metadata": {},
   "outputs": [
    {
     "name": "stdout",
     "output_type": "stream",
     "text": [
      "07/05/2025 là 07/05/2025, 03/05/2025 là 08/05/2025\n"
     ]
    }
   ],
   "source": [
    "import re\n",
    "import datetime\n",
    "from dateparser.search import search_dates\n",
    "\n",
    "BASE_DATE = datetime.datetime.now(datetime.timezone(datetime.timedelta(hours=7)))\n",
    "\n",
    "RELATIVE_VN = {\n",
    "    r'\\bhôm nay\\b': 0,\n",
    "    r'\\bngày mai\\b': 1,\n",
    "    r'\\bngày kia\\b': 2,\n",
    "    r'\\bhôm qua\\b': -1,\n",
    "    r'\\bngày hôm qua\\b': -1,\n",
    "}\n",
    "\n",
    "RE_DYNAMIC = [\n",
    "    (re.compile(r'(\\d+)\\s+ngày\\s+trước', flags=re.IGNORECASE), -1),\n",
    "    (re.compile(r'(\\d+)\\s+ngày\\s+sau',   flags=re.IGNORECASE), +1),\n",
    "]\n",
    "\n",
    "def normalize_dates(text, base_date=BASE_DATE):\n",
    "    for pattern, offset in RELATIVE_VN.items():\n",
    "        def _fix(m):\n",
    "            dt = base_date + datetime.timedelta(days=offset)\n",
    "            return dt.strftime(\"%d/%m/%Y\")\n",
    "        text = re.sub(pattern, _fix, text, flags=re.IGNORECASE)\n",
    "\n",
    "    for regex, direction in RE_DYNAMIC:\n",
    "        def _dyn(m):\n",
    "            n = int(m.group(1))\n",
    "            dt = base_date + datetime.timedelta(days=direction * n)\n",
    "            return dt.strftime(\"%d/%m/%Y\")\n",
    "        text = regex.sub(_dyn, text)\n",
    "\n",
    "    results = search_dates(\n",
    "        text,\n",
    "        languages=['vi'],\n",
    "        settings={\n",
    "            'PREFER_DATES_FROM': 'past',\n",
    "            'RELATIVE_BASE': base_date,\n",
    "            'RETURN_AS_TIMEZONE_AWARE': False\n",
    "        }\n",
    "    ) or []\n",
    "\n",
    "    for expr, dt in sorted(results, key=lambda x: -len(x[0])):\n",
    "        formatted = dt.strftime(\"%d/%m/%Y\")\n",
    "        esc = re.escape(expr)\n",
    "        text = re.sub(rf\"\\b{esc}\\b\", formatted, text, flags=re.IGNORECASE)\n",
    "\n",
    "    return text\n",
    "\n",
    "print(normalize_dates(\"Hôm nay là hôm nay, 4 ngày trước là ngày mai\"))"
   ]
  },
  {
   "cell_type": "markdown",
   "id": "4d1ceb51",
   "metadata": {},
   "source": [
    "# Later shit: broadcast model for document embeding to vector search"
   ]
  }
 ],
 "metadata": {
  "kernelspec": {
   "display_name": "ds-prj",
   "language": "python",
   "name": "python3"
  },
  "language_info": {
   "codemirror_mode": {
    "name": "ipython",
    "version": 3
   },
   "file_extension": ".py",
   "mimetype": "text/x-python",
   "name": "python",
   "nbconvert_exporter": "python",
   "pygments_lexer": "ipython3",
   "version": "3.12.9"
  }
 },
 "nbformat": 4,
 "nbformat_minor": 5
}
